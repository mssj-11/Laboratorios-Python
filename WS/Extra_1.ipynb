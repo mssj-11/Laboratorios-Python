{
  "nbformat": 4,
  "nbformat_minor": 0,
  "metadata": {
    "colab": {
      "provenance": []
    },
    "kernelspec": {
      "name": "python3",
      "display_name": "Python 3"
    },
    "language_info": {
      "name": "python"
    }
  },
  "cells": [
    {
      "cell_type": "markdown",
      "source": [
        "# **Extracción de información de la web con Python**\n",
        "## Conversión de datos a DataFrame"
      ],
      "metadata": {
        "id": "3tn-Jcum9fan"
      }
    },
    {
      "cell_type": "code",
      "execution_count": 15,
      "metadata": {
        "id": "4_F9Iplj9eG4"
      },
      "outputs": [],
      "source": [
        "# Librerias\n",
        "import pandas as pd\n",
        "import numpy as np\n",
        "import matplotlib.pyplot as plt\n",
        "from unicodedata import normalize"
      ]
    },
    {
      "cell_type": "code",
      "source": [
        "# Añadir la dirección web donde se encuentra la tabla HTML, para leer las tablas\n",
        "tables = pd.read_html('https://en.wikipedia.org/wiki/National_Basketball_Association')\n",
        "\n",
        "# Mostrar el número total de tablas encontradas\n",
        "len(tables)"
      ],
      "metadata": {
        "colab": {
          "base_uri": "https://localhost:8080/"
        },
        "id": "LTp4ARPX-0vW",
        "outputId": "9fd0800f-d5ef-43c7-a607-4f0351403b39"
      },
      "execution_count": 16,
      "outputs": [
        {
          "output_type": "execute_result",
          "data": {
            "text/plain": [
              "46"
            ]
          },
          "metadata": {},
          "execution_count": 16
        }
      ]
    },
    {
      "cell_type": "code",
      "source": [
        "# Mostrando las primeras 5 tablas\n",
        "tables[1:5]"
      ],
      "metadata": {
        "colab": {
          "base_uri": "https://localhost:8080/"
        },
        "id": "MCK_KCJwATYk",
        "outputId": "3bf103f5-bcc2-4dd1-9c99-7ee71821034f"
      },
      "execution_count": 17,
      "outputs": [
        {
          "output_type": "execute_result",
          "data": {
            "text/plain": [
              "[    0                                                  1\n",
              " 0 NaN  This article or section appears to be slanted ...,\n",
              "                                           0\n",
              " 0  Map all coordinates using: OpenStreetMap\n",
              " 1              Download coordinates as: KML\n",
              " 2                             GPX (primary)\n",
              " 3                           GPX (secondary)\n",
              " 4                                 GPX (all),\n",
              "               Division                    Team                    Location  \\\n",
              "     Eastern Conference      Eastern Conference          Eastern Conference   \n",
              " 0             Atlantic          Boston Celtics       Boston, Massachusetts   \n",
              " 1             Atlantic           Brooklyn Nets     New York City, New York   \n",
              " 2             Atlantic         New York Knicks     New York City, New York   \n",
              " 3             Atlantic      Philadelphia 76ers  Philadelphia, Pennsylvania   \n",
              " 4             Atlantic         Toronto Raptors            Toronto, Ontario   \n",
              " 5              Central           Chicago Bulls           Chicago, Illinois   \n",
              " 6              Central     Cleveland Cavaliers             Cleveland, Ohio   \n",
              " 7              Central         Detroit Pistons           Detroit, Michigan   \n",
              " 8              Central          Indiana Pacers       Indianapolis, Indiana   \n",
              " 9              Central         Milwaukee Bucks        Milwaukee, Wisconsin   \n",
              " 10           Southeast           Atlanta Hawks            Atlanta, Georgia   \n",
              " 11           Southeast       Charlotte Hornets   Charlotte, North Carolina   \n",
              " 12           Southeast              Miami Heat              Miami, Florida   \n",
              " 13           Southeast           Orlando Magic            Orlando, Florida   \n",
              " 14           Southeast      Washington Wizards            Washington, D.C.   \n",
              " 15  Western Conference      Western Conference          Western Conference   \n",
              " 16           Northwest          Denver Nuggets            Denver, Colorado   \n",
              " 17           Northwest  Minnesota Timberwolves      Minneapolis, Minnesota   \n",
              " 18           Northwest   Oklahoma City Thunder     Oklahoma City, Oklahoma   \n",
              " 19           Northwest  Portland Trail Blazers            Portland, Oregon   \n",
              " 20           Northwest               Utah Jazz        Salt Lake City, Utah   \n",
              " 21             Pacific   Golden State Warriors   San Francisco, California   \n",
              " 22             Pacific    Los Angeles Clippers     Los Angeles, California   \n",
              " 23             Pacific      Los Angeles Lakers     Los Angeles, California   \n",
              " 24             Pacific            Phoenix Suns            Phoenix, Arizona   \n",
              " 25             Pacific        Sacramento Kings      Sacramento, California   \n",
              " 26           Southwest        Dallas Mavericks               Dallas, Texas   \n",
              " 27           Southwest         Houston Rockets              Houston, Texas   \n",
              " 28           Southwest       Memphis Grizzlies          Memphis, Tennessee   \n",
              " 29           Southwest    New Orleans Pelicans      New Orleans, Louisiana   \n",
              " 30           Southwest       San Antonio Spurs          San Antonio, Texas   \n",
              " \n",
              "                          Arena            Capacity  \\\n",
              "             Eastern Conference  Eastern Conference   \n",
              " 0                    TD Garden               19156   \n",
              " 1              Barclays Center               17732   \n",
              " 2        Madison Square Garden               19812   \n",
              " 3           Wells Fargo Center               20478   \n",
              " 4             Scotiabank Arena               19800   \n",
              " 5                United Center               20917   \n",
              " 6   Rocket Mortgage FieldHouse               19432   \n",
              " 7         Little Caesars Arena               20332   \n",
              " 8        Gainbridge Fieldhouse               17923   \n",
              " 9                 Fiserv Forum               17341   \n",
              " 10            State Farm Arena               16600   \n",
              " 11             Spectrum Center               19077   \n",
              " 12            Miami-Dade Arena               19600   \n",
              " 13                Amway Center               18846   \n",
              " 14           Capital One Arena               20356   \n",
              " 15          Western Conference  Western Conference   \n",
              " 16                  Ball Arena               19520   \n",
              " 17               Target Center               18798   \n",
              " 18               Paycom Center               18203   \n",
              " 19                 Moda Center               19393   \n",
              " 20                Vivint Arena               18306   \n",
              " 21                Chase Center               18064   \n",
              " 22            Crypto.com Arena               19079   \n",
              " 23            Crypto.com Arena               19079   \n",
              " 24            Footprint Center               16645   \n",
              " 25             Golden 1 Center               17608   \n",
              " 26    American Airlines Center               19200   \n",
              " 27               Toyota Center               18055   \n",
              " 28                  FedExForum               18119   \n",
              " 29        Smoothie King Center               16867   \n",
              " 30                 AT&T Center               18418   \n",
              " \n",
              "                                           Coordinates             Founded  \\\n",
              "                                    Eastern Conference  Eastern Conference   \n",
              " 0   .mw-parser-output .geo-default,.mw-parser-outp...                1946   \n",
              " 1    40°40′58″N 73°58′29″W﻿ / ﻿40.68265°N 73.974689°W               1967*   \n",
              " 2   40°45′02″N 73°59′37″W﻿ / ﻿40.750556°N 73.993611°W                1946   \n",
              " 3   39°54′04″N 75°10′19″W﻿ / ﻿39.901111°N 75.171944°W               1946*   \n",
              " 4   43°38′36″N 79°22′45″W﻿ / ﻿43.643333°N 79.379167°W                1995   \n",
              " 5   41°52′50″N 87°40′27″W﻿ / ﻿41.880556°N 87.674167°W                1966   \n",
              " 6   41°29′47″N 81°41′17″W﻿ / ﻿41.496389°N 81.688056°W                1970   \n",
              " 7      42°20′28″N 83°03′18″W﻿ / ﻿42.341111°N 83.055°W               1941*   \n",
              " 8   39°45′50″N 86°09′20″W﻿ / ﻿39.763889°N 86.155556°W                1967   \n",
              " 9   43°02′37″N 87°55′01″W﻿ / ﻿43.043611°N 87.916944°W                1968   \n",
              " 10  33°45′26″N 84°23′47″W﻿ / ﻿33.757222°N 84.396389°W               1946*   \n",
              " 11     35°13′30″N 80°50′21″W﻿ / ﻿35.225°N 80.839167°W               1988*   \n",
              " 12  25°46′53″N 80°11′17″W﻿ / ﻿25.781389°N 80.188056°W                1988   \n",
              " 13  28°32′21″N 81°23′01″W﻿ / ﻿28.539167°N 81.383611°W                1989   \n",
              " 14  38°53′53″N 77°01′15″W﻿ / ﻿38.898056°N 77.020833°W               1961*   \n",
              " 15                                 Western Conference  Western Conference   \n",
              " 16  39°44′55″N 105°00′27″W﻿ / ﻿39.748611°N 105.0075°W                1967   \n",
              " 17  44°58′46″N 93°16′34″W﻿ / ﻿44.979444°N 93.276111°W                1989   \n",
              " 18     35°27′48″N 97°30′54″W﻿ / ﻿35.463333°N 97.515°W               1967*   \n",
              " 19  45°31′54″N 122°40′00″W﻿ / ﻿45.531667°N 122.666...                1970   \n",
              " 20  40°46′06″N 111°54′04″W﻿ / ﻿40.768333°N 111.901...               1974*   \n",
              " 21  37°46′05″N 122°23′15″W﻿ / ﻿37.768056°N 122.3875°W               1946*   \n",
              " 22  34°02′35″N 118°16′02″W﻿ / ﻿34.043056°N 118.267...               1970*   \n",
              " 23  34°02′35″N 118°16′02″W﻿ / ﻿34.043056°N 118.267...               1947*   \n",
              " 24  33°26′45″N 112°04′17″W﻿ / ﻿33.445833°N 112.071...                1968   \n",
              " 25  38°38′57″N 121°31′05″W﻿ / ﻿38.649167°N 121.518...               1923*   \n",
              " 26  32°47′26″N 96°48′37″W﻿ / ﻿32.790556°N 96.810278°W                1980   \n",
              " 27  29°45′03″N 95°21′44″W﻿ / ﻿29.750833°N 95.362222°W               1967*   \n",
              " 28  35°08′18″N 90°03′02″W﻿ / ﻿35.138333°N 90.050556°W               1995*   \n",
              " 29  29°56′56″N 90°04′55″W﻿ / ﻿29.948889°N 90.081944°W               2002*   \n",
              " 30    29°25′37″N 98°26′15″W﻿ / ﻿29.426944°N 98.4375°W               1967*   \n",
              " \n",
              "                 Joined  Unnamed: 8_level_0  \n",
              "     Eastern Conference  Eastern Conference  \n",
              " 0                 1946                 NaN  \n",
              " 1                 1976                 NaN  \n",
              " 2                 1946                 NaN  \n",
              " 3                 1949                 NaN  \n",
              " 4                 1995                 NaN  \n",
              " 5                 1966                 NaN  \n",
              " 6                 1970                 NaN  \n",
              " 7                 1948                 NaN  \n",
              " 8                 1976                 NaN  \n",
              " 9                 1968                 NaN  \n",
              " 10                1949                 NaN  \n",
              " 11               1988*                 NaN  \n",
              " 12                1988                 NaN  \n",
              " 13                1989                 NaN  \n",
              " 14               1961*                 NaN  \n",
              " 15  Western Conference  Western Conference  \n",
              " 16                1976                 NaN  \n",
              " 17                1989                 NaN  \n",
              " 18               1967*                 NaN  \n",
              " 19                1970                 NaN  \n",
              " 20               1974*                 NaN  \n",
              " 21               1946*                 NaN  \n",
              " 22               1970*                 NaN  \n",
              " 23                1948                 NaN  \n",
              " 24                1968                 NaN  \n",
              " 25                1948                 NaN  \n",
              " 26                1980                 NaN  \n",
              " 27               1967*                 NaN  \n",
              " 28               1995*                 NaN  \n",
              " 29               2002*                 NaN  \n",
              " 30                1976                 NaN  ,\n",
              "     0                                                  1\n",
              " 0 NaN  This section needs additional citations for ve...]"
            ]
          },
          "metadata": {},
          "execution_count": 17
        }
      ]
    },
    {
      "cell_type": "markdown",
      "source": [
        "## **Encontrar información específica**\n",
        "### **match**: Es una expresion que se usa para buscar en columnas, si existen coincidencias, podemos comprobar si una expresión regular coincide con el inicio de una cadena.\n",
        "\n",
        "### Devolvera un conjunto de tablas que contengan la próxima coincidencia con esta expresión regular o cadena"
      ],
      "metadata": {
        "id": "ysSWYBS7AuhT"
      }
    },
    {
      "cell_type": "code",
      "source": [
        "# Coincidencias por \"Division\"\n",
        "tables = pd.read_html('https://en.wikipedia.org/wiki/National_Basketball_Association', match='Division')\n",
        "\n",
        "# Mostrar el número total de tablas encontradas\n",
        "len(tables)"
      ],
      "metadata": {
        "colab": {
          "base_uri": "https://localhost:8080/"
        },
        "id": "Jxuj75QSAkkR",
        "outputId": "5ca4c137-96a5-4cbd-940f-36921bde9679"
      },
      "execution_count": 18,
      "outputs": [
        {
          "output_type": "execute_result",
          "data": {
            "text/plain": [
              "1"
            ]
          },
          "metadata": {},
          "execution_count": 18
        }
      ]
    },
    {
      "cell_type": "code",
      "source": [
        "# Defininedo la tabla\n",
        "table_names = tables[0]\n",
        "\n",
        "# Enumerar todos los nombres en columnas de la tabla\n",
        "list(table_names)"
      ],
      "metadata": {
        "colab": {
          "base_uri": "https://localhost:8080/"
        },
        "id": "zon8YJmxDJOp",
        "outputId": "aebf69ee-6860-4a8d-bd7c-21296598477f"
      },
      "execution_count": 19,
      "outputs": [
        {
          "output_type": "execute_result",
          "data": {
            "text/plain": [
              "[('Division', 'Eastern Conference'),\n",
              " ('Team', 'Eastern Conference'),\n",
              " ('Location', 'Eastern Conference'),\n",
              " ('Arena', 'Eastern Conference'),\n",
              " ('Capacity', 'Eastern Conference'),\n",
              " ('Coordinates', 'Eastern Conference'),\n",
              " ('Founded', 'Eastern Conference'),\n",
              " ('Joined', 'Eastern Conference'),\n",
              " ('Unnamed: 8_level_0', 'Eastern Conference')]"
            ]
          },
          "metadata": {},
          "execution_count": 19
        }
      ]
    },
    {
      "cell_type": "markdown",
      "source": [
        "## Filtrar DataFrame(Marco de Datos) para que solo contenga las tres primeras columnas"
      ],
      "metadata": {
        "id": "rvFNCeblEF0u"
      }
    },
    {
      "cell_type": "code",
      "source": [
        "# Filtrado de las columnas (0=Division, 1=Equipo, 4=Capacidad)\n",
        "df_final = table_names.iloc[:, [0, 1, 4]]\n",
        "\n",
        "# Enumerar todos las columnas filtradas de la tabla\n",
        "#list(df_final)\n",
        "\n",
        "# Renombrar las columnas\n",
        "df_final.columns = ['División' , 'Equipo', 'Capacidad']\n",
        "\n",
        "# Ver las primeras filas nuevas del DataFrame(Marco de Datos) final\n",
        "print(df_final.head())"
      ],
      "metadata": {
        "colab": {
          "base_uri": "https://localhost:8080/"
        },
        "id": "0AmYTu-ZEVmh",
        "outputId": "b16883ad-321a-4b6c-9412-ad85d36ae5ff"
      },
      "execution_count": 20,
      "outputs": [
        {
          "output_type": "stream",
          "name": "stdout",
          "text": [
            "   División              Equipo Capacidad\n",
            "0  Atlantic      Boston Celtics     19156\n",
            "1  Atlantic       Brooklyn Nets     17732\n",
            "2  Atlantic     New York Knicks     19812\n",
            "3  Atlantic  Philadelphia 76ers     20478\n",
            "4  Atlantic     Toronto Raptors     19800\n"
          ]
        }
      ]
    }
  ]
}